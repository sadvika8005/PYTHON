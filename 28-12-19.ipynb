{
 "cells": [
  {
   "cell_type": "code",
   "execution_count": 5,
   "metadata": {},
   "outputs": [
    {
     "name": "stdout",
     "output_type": "stream",
     "text": [
      "p\n",
      "n\n",
      "t\n",
      "e\n"
     ]
    }
   ],
   "source": [
    "#input str=\"pynative\"\n",
    "#output='p','n','t','v'\n",
    "#complete the question using function\n",
    "s1=\"pynative\"\n",
    "print(s1[0])\n",
    "print(s1[2])\n",
    "print(s1[4])\n",
    "print(s1[7])"
   ]
  },
  {
   "cell_type": "code",
   "execution_count": 16,
   "metadata": {},
   "outputs": [
    {
     "name": "stdout",
     "output_type": "stream",
     "text": [
      "['p', 'n', 't', 'v']\n"
     ]
    }
   ],
   "source": [
    "def alternative(str):\n",
    "    li=list(s1[0:len(str):2])\n",
    "    print(li)\n",
    "alternative('pynative')\n"
   ]
  },
  {
   "cell_type": "code",
   "execution_count": 24,
   "metadata": {},
   "outputs": [
    {
     "data": {
      "text/plain": [
       "True"
      ]
     },
     "execution_count": 24,
     "metadata": {},
     "output_type": "execute_result"
    }
   ],
   "source": [
    "#given a list of integers,return true if first and last number of list is same\n",
    "def firstandlast(li):\n",
    "    if li[0]==li[-1]:\n",
    "      return True\n",
    "    else:                           \n",
    "     return False\n",
    "li=[0,1,2,3,4,0]\n",
    "firstandlast(li)"
   ]
  },
  {
   "cell_type": "code",
   "execution_count": 36,
   "metadata": {},
   "outputs": [
    {
     "name": "stdout",
     "output_type": "stream",
     "text": [
      "\n",
      "\n",
      "1 \n",
      "\n",
      "2 2 \n",
      "\n",
      "3 3 3 \n",
      "\n",
      "4 4 4 4 \n",
      "\n",
      "5 5 5 5 5 \n",
      "\n"
     ]
    }
   ],
   "source": [
    "# print the following pattern\n",
    "1\n",
    "22\n",
    "333\n",
    "4444\n",
    "for num in range(6):\n",
    "    for i in range(num):\n",
    "        \n",
    "        print(num,end=\" \")\n",
    "    print(\"\\n\")\n",
    "        \n",
    "            "
   ]
  },
  {
   "cell_type": "code",
   "execution_count": null,
   "metadata": {},
   "outputs": [],
   "source": []
  }
 ],
 "metadata": {
  "kernelspec": {
   "display_name": "Python 3",
   "language": "python",
   "name": "python3"
  },
  "language_info": {
   "codemirror_mode": {
    "name": "ipython",
    "version": 3
   },
   "file_extension": ".py",
   "mimetype": "text/x-python",
   "name": "python",
   "nbconvert_exporter": "python",
   "pygments_lexer": "ipython3",
   "version": "3.7.3"
  }
 },
 "nbformat": 4,
 "nbformat_minor": 2
}
