{
 "cells": [
  {
   "cell_type": "code",
   "execution_count": 4,
   "metadata": {},
   "outputs": [
    {
     "name": "stdout",
     "output_type": "stream",
     "text": [
      "enter number5\n",
      "enter number6\n",
      "enter number7\n",
      "7 is large number\n"
     ]
    }
   ],
   "source": [
    "# find large number from given 3 numbers\n",
    "a=int(input(\"enter number\"))\n",
    "b=int(input(\"enter number\"))\n",
    "c=int(input(\"enter number\"))\n",
    "if a>b and b>c:\n",
    "\n",
    "     print(a,\"is large number\")\n",
    "elif b>a and b>c:\n",
    "     print(b,\"is large number\")\n",
    "else:\n",
    "     print(c,\"is large number\")"
   ]
  },
  {
   "cell_type": "markdown",
   "metadata": {},
   "source": [
    "# While statements:\n",
    "### syntax:\n",
    "#### while boolean_condition:\n",
    "statements\n",
    "increment/decrement"
   ]
  },
  {
   "cell_type": "code",
   "execution_count": 7,
   "metadata": {},
   "outputs": [
    {
     "name": "stdout",
     "output_type": "stream",
     "text": [
      "gitam\n",
      "gitam\n",
      "gitam\n",
      "gitam\n",
      "gitam\n"
     ]
    }
   ],
   "source": [
    "x=0\n",
    "while x<5:\n",
    "     print(\"gitam\")\n",
    "     x=x+1"
   ]
  },
  {
   "cell_type": "code",
   "execution_count": 10,
   "metadata": {},
   "outputs": [
    {
     "name": "stdout",
     "output_type": "stream",
     "text": [
      "enter a number10\n",
      "1 2 3 4 5 6 7 8 9 10 "
     ]
    }
   ],
   "source": [
    "n=int(input(\"enter a number\"))\n",
    "i=1\n",
    "while i<=n:\n",
    "    print(i,end=\" \")\n",
    "    i=i+1\n",
    "    "
   ]
  },
  {
   "cell_type": "code",
   "execution_count": 5,
   "metadata": {},
   "outputs": [
    {
     "name": "stdout",
     "output_type": "stream",
     "text": [
      "enter a number10\n",
      "30\n"
     ]
    }
   ],
   "source": [
    "# ad only even numbers `1 to n\n",
    "# input:10\n",
    "# output:30(2+4+6+8+10)\n",
    "n=int(input(\"enter a number\"))\n",
    "i = 1\n",
    "sum = 0\n",
    "while i<=n:\n",
    "    if i%2 == 0:\n",
    "        sum =sum+i\n",
    "    i =i+1\n",
    "print(sum) "
   ]
  },
  {
   "cell_type": "code",
   "execution_count": 6,
   "metadata": {},
   "outputs": [
    {
     "name": "stdout",
     "output_type": "stream",
     "text": [
      "enter a number123\n",
      "3 2 1 "
     ]
    }
   ],
   "source": [
    "# input 1 2 3\n",
    "# out 3 2 1 \n",
    "n = int(input(\"enter a number\"))\n",
    "while n!=0:\n",
    "     r=n%10\n",
    "     print(r,end=\" \")\n",
    "     n=n//10"
   ]
  },
  {
   "cell_type": "markdown",
   "metadata": {},
   "source": [
    "# Functional programming\n",
    "- simple\n",
    "- easy read\n",
    "- lengthy program divides into subprograms\n",
    "## syntax:\n",
    "def name of the function() statement return\n"
   ]
  },
  {
   "cell_type": "code",
   "execution_count": 13,
   "metadata": {},
   "outputs": [
    {
     "data": {
      "text/plain": [
       "6"
      ]
     },
     "execution_count": 13,
     "metadata": {},
     "output_type": "execute_result"
    }
   ],
   "source": [
    "# input:1234\n",
    "# output:6(2+4)\n",
    "def addevendigit(n):\n",
    "    sum =0\n",
    "    while n!= 0:\n",
    "            r= n%10\n",
    "            if r %2==0:\n",
    "                sum = sum+r\n",
    "            n = n//10\n",
    "    return sum\n",
    "addevendigit(1234)"
   ]
  },
  {
   "cell_type": "code",
   "execution_count": 20,
   "metadata": {},
   "outputs": [
    {
     "data": {
      "text/plain": [
       "9"
      ]
     },
     "execution_count": 20,
     "metadata": {},
     "output_type": "execute_result"
    }
   ],
   "source": [
    "# read input\n",
    "# input :19528\n",
    "# output:9\n",
    "def largestnumber(n):\n",
    "    while n!=0:\n",
    "        r=n%10\n",
    "        if r>1:\n",
    "            l=r\n",
    "        n=n//10\n",
    "    return l \n",
    "largestnumber(19528)"
   ]
  },
  {
   "cell_type": "code",
   "execution_count": 23,
   "metadata": {},
   "outputs": [
    {
     "name": "stdout",
     "output_type": "stream",
     "text": [
      "no\n",
      "yes\n"
     ]
    }
   ],
   "source": [
    "# input:121---121---yes\n",
    "#      :123---321---no\n",
    "def ispalindrome(n):\n",
    "    rev = 0\n",
    "    buffer = n\n",
    "    while n!=0:\n",
    "        r=n%10\n",
    "        rev =rev * 10 + r\n",
    "        n = n//10\n",
    "    if buffer == rev:\n",
    "        return \"yes\"\n",
    "    else:\n",
    "        return \"no\"\n",
    "print(ispalindrome(123))\n",
    "print(ispalindrome(121))\n",
    "    \n",
    "    "
   ]
  },
  {
   "cell_type": "code",
   "execution_count": 25,
   "metadata": {},
   "outputs": [
    {
     "name": "stdout",
     "output_type": "stream",
     "text": [
      "11 12 13 14 15 16 17 18 19 20 21 22 23 24 25 "
     ]
    }
   ],
   "source": [
    "# function to print n natural number\n",
    "def natural(l,b):\n",
    "    for i in range(l,b+1):\n",
    "        print(i,end=\" \")\n",
    "natural(11,25)        "
   ]
  },
  {
   "cell_type": "code",
   "execution_count": 26,
   "metadata": {},
   "outputs": [
    {
     "name": "stdout",
     "output_type": "stream",
     "text": [
      "1 5 9 "
     ]
    }
   ],
   "source": [
    "# function to print n natural differnce \n",
    "def natural(l,b):\n",
    "    for i in range(l,b+1,4):\n",
    "        print(i,end=\" \")\n",
    "natural(1,10)        "
   ]
  },
  {
   "cell_type": "code",
   "execution_count": 31,
   "metadata": {},
   "outputs": [
    {
     "name": "stdout",
     "output_type": "stream",
     "text": [
      "100 102 104 106 108 110 "
     ]
    }
   ],
   "source": [
    "def natural(n):\n",
    "    for i in range(100,n+1,2):\n",
    "        print(i,end=\" \")\n",
    "natural(110)"
   ]
  },
  {
   "cell_type": "code",
   "execution_count": 33,
   "metadata": {},
   "outputs": [
    {
     "name": "stdout",
     "output_type": "stream",
     "text": [
      "10 9 8 7 6 5 4 3 2 1 "
     ]
    }
   ],
   "source": [
    "# using function\n",
    "# input\n",
    "def reverserange(b,l):\n",
    "    for i in range(l,b-1,-1):\n",
    "        print(i,end=\" \")\n",
    "reverserange(1,10)        \n",
    "        \n"
   ]
  },
  {
   "cell_type": "markdown",
   "metadata": {},
   "source": [
    "# data structure types:\n",
    "- list\n",
    "- tupple\n",
    "- dictionary"
   ]
  },
  {
   "cell_type": "markdown",
   "metadata": {},
   "source": [
    "# list:\n",
    "- list one common data structure in python,the items are seperated by common and enclosed by []\n",
    "- crud operation\n",
    "* c - create\n",
    "* r - read\n",
    "* u - upadate\n",
    "* d - delete\n",
    "- list can be change or immutable\n",
    "# example:\n",
    "- list =[1,2,3,4]\n"
   ]
  },
  {
   "cell_type": "code",
   "execution_count": null,
   "metadata": {},
   "outputs": [],
   "source": [
    "li = [0,1,]"
   ]
  }
 ],
 "metadata": {
  "kernelspec": {
   "display_name": "Python 3",
   "language": "python",
   "name": "python3"
  },
  "language_info": {
   "codemirror_mode": {
    "name": "ipython",
    "version": 3
   },
   "file_extension": ".py",
   "mimetype": "text/x-python",
   "name": "python",
   "nbconvert_exporter": "python",
   "pygments_lexer": "ipython3",
   "version": "3.7.3"
  }
 },
 "nbformat": 4,
 "nbformat_minor": 2
}
